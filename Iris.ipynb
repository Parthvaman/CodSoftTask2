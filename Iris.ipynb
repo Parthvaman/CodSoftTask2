{
 "cells": [
  {
   "cell_type": "raw",
   "id": "6fb1d5a1-dd66-4bee-a917-342dc73aee6b",
   "metadata": {},
   "source": [
    "step 1 :- Data Loading \n",
    "    First We Load The Data Set Provided By Kaggle On the IRIS flower Classification\n"
   ]
  },
  {
   "cell_type": "code",
   "execution_count": 36,
   "id": "ec520958-3aaa-42c6-b4c0-55e419fb352a",
   "metadata": {},
   "outputs": [],
   "source": [
    "import pandas as pd"
   ]
  },
  {
   "cell_type": "code",
   "execution_count": 37,
   "id": "ab9f9309-3455-4fce-9c62-937625977b61",
   "metadata": {},
   "outputs": [],
   "source": [
    "df=pd.read_csv(r\"C:\\Users\\USER-PC\\Documents\\CodSoft\\IRIS.csv\")"
   ]
  },
  {
   "cell_type": "code",
   "execution_count": 38,
   "id": "482de974-4e07-4e9d-91d6-d04a309e9107",
   "metadata": {},
   "outputs": [
    {
     "data": {
      "text/html": [
       "<div>\n",
       "<style scoped>\n",
       "    .dataframe tbody tr th:only-of-type {\n",
       "        vertical-align: middle;\n",
       "    }\n",
       "\n",
       "    .dataframe tbody tr th {\n",
       "        vertical-align: top;\n",
       "    }\n",
       "\n",
       "    .dataframe thead th {\n",
       "        text-align: right;\n",
       "    }\n",
       "</style>\n",
       "<table border=\"1\" class=\"dataframe\">\n",
       "  <thead>\n",
       "    <tr style=\"text-align: right;\">\n",
       "      <th></th>\n",
       "      <th>sepal_length</th>\n",
       "      <th>sepal_width</th>\n",
       "      <th>petal_length</th>\n",
       "      <th>petal_width</th>\n",
       "      <th>species</th>\n",
       "    </tr>\n",
       "  </thead>\n",
       "  <tbody>\n",
       "    <tr>\n",
       "      <th>0</th>\n",
       "      <td>5.1</td>\n",
       "      <td>3.5</td>\n",
       "      <td>1.4</td>\n",
       "      <td>0.2</td>\n",
       "      <td>Iris-setosa</td>\n",
       "    </tr>\n",
       "    <tr>\n",
       "      <th>1</th>\n",
       "      <td>4.9</td>\n",
       "      <td>3.0</td>\n",
       "      <td>1.4</td>\n",
       "      <td>0.2</td>\n",
       "      <td>Iris-setosa</td>\n",
       "    </tr>\n",
       "    <tr>\n",
       "      <th>2</th>\n",
       "      <td>4.7</td>\n",
       "      <td>3.2</td>\n",
       "      <td>1.3</td>\n",
       "      <td>0.2</td>\n",
       "      <td>Iris-setosa</td>\n",
       "    </tr>\n",
       "    <tr>\n",
       "      <th>3</th>\n",
       "      <td>4.6</td>\n",
       "      <td>3.1</td>\n",
       "      <td>1.5</td>\n",
       "      <td>0.2</td>\n",
       "      <td>Iris-setosa</td>\n",
       "    </tr>\n",
       "    <tr>\n",
       "      <th>4</th>\n",
       "      <td>5.0</td>\n",
       "      <td>3.6</td>\n",
       "      <td>1.4</td>\n",
       "      <td>0.2</td>\n",
       "      <td>Iris-setosa</td>\n",
       "    </tr>\n",
       "  </tbody>\n",
       "</table>\n",
       "</div>"
      ],
      "text/plain": [
       "   sepal_length  sepal_width  petal_length  petal_width      species\n",
       "0           5.1          3.5           1.4          0.2  Iris-setosa\n",
       "1           4.9          3.0           1.4          0.2  Iris-setosa\n",
       "2           4.7          3.2           1.3          0.2  Iris-setosa\n",
       "3           4.6          3.1           1.5          0.2  Iris-setosa\n",
       "4           5.0          3.6           1.4          0.2  Iris-setosa"
      ]
     },
     "execution_count": 38,
     "metadata": {},
     "output_type": "execute_result"
    }
   ],
   "source": [
    "df.head()"
   ]
  },
  {
   "cell_type": "code",
   "execution_count": 69,
   "id": "2dd84784-d7b2-4556-99ff-4bf1c2a6548e",
   "metadata": {},
   "outputs": [],
   "source": [
    "#Step 2:-Exploratory Data Analysis"
   ]
  },
  {
   "cell_type": "code",
   "execution_count": 39,
   "id": "5fad4580-bcdc-4383-89a3-4cc7ebd33c72",
   "metadata": {},
   "outputs": [
    {
     "data": {
      "text/plain": [
       "sepal_length    0\n",
       "sepal_width     0\n",
       "petal_length    0\n",
       "petal_width     0\n",
       "species         0\n",
       "dtype: int64"
      ]
     },
     "execution_count": 39,
     "metadata": {},
     "output_type": "execute_result"
    }
   ],
   "source": [
    "df.isnull().sum()"
   ]
  },
  {
   "cell_type": "code",
   "execution_count": 50,
   "id": "f9f6cecc-90a9-4005-b82f-b56fe069bb43",
   "metadata": {},
   "outputs": [],
   "source": [
    "df['species'].replace(['Iris-setosa', 'Iris-virginica','Iris-versicolor'],[0, 1,2], inplace=True)"
   ]
  },
  {
   "cell_type": "code",
   "execution_count": 51,
   "id": "f6276c9f-52e5-4094-b48a-0572123b9ec4",
   "metadata": {},
   "outputs": [
    {
     "data": {
      "text/html": [
       "<div>\n",
       "<style scoped>\n",
       "    .dataframe tbody tr th:only-of-type {\n",
       "        vertical-align: middle;\n",
       "    }\n",
       "\n",
       "    .dataframe tbody tr th {\n",
       "        vertical-align: top;\n",
       "    }\n",
       "\n",
       "    .dataframe thead th {\n",
       "        text-align: right;\n",
       "    }\n",
       "</style>\n",
       "<table border=\"1\" class=\"dataframe\">\n",
       "  <thead>\n",
       "    <tr style=\"text-align: right;\">\n",
       "      <th></th>\n",
       "      <th>sepal_length</th>\n",
       "      <th>sepal_width</th>\n",
       "      <th>petal_length</th>\n",
       "      <th>petal_width</th>\n",
       "      <th>species</th>\n",
       "    </tr>\n",
       "  </thead>\n",
       "  <tbody>\n",
       "    <tr>\n",
       "      <th>0</th>\n",
       "      <td>5.1</td>\n",
       "      <td>3.5</td>\n",
       "      <td>1.4</td>\n",
       "      <td>0.2</td>\n",
       "      <td>0</td>\n",
       "    </tr>\n",
       "    <tr>\n",
       "      <th>1</th>\n",
       "      <td>4.9</td>\n",
       "      <td>3.0</td>\n",
       "      <td>1.4</td>\n",
       "      <td>0.2</td>\n",
       "      <td>0</td>\n",
       "    </tr>\n",
       "    <tr>\n",
       "      <th>2</th>\n",
       "      <td>4.7</td>\n",
       "      <td>3.2</td>\n",
       "      <td>1.3</td>\n",
       "      <td>0.2</td>\n",
       "      <td>0</td>\n",
       "    </tr>\n",
       "    <tr>\n",
       "      <th>3</th>\n",
       "      <td>4.6</td>\n",
       "      <td>3.1</td>\n",
       "      <td>1.5</td>\n",
       "      <td>0.2</td>\n",
       "      <td>0</td>\n",
       "    </tr>\n",
       "    <tr>\n",
       "      <th>4</th>\n",
       "      <td>5.0</td>\n",
       "      <td>3.6</td>\n",
       "      <td>1.4</td>\n",
       "      <td>0.2</td>\n",
       "      <td>0</td>\n",
       "    </tr>\n",
       "  </tbody>\n",
       "</table>\n",
       "</div>"
      ],
      "text/plain": [
       "   sepal_length  sepal_width  petal_length  petal_width  species\n",
       "0           5.1          3.5           1.4          0.2        0\n",
       "1           4.9          3.0           1.4          0.2        0\n",
       "2           4.7          3.2           1.3          0.2        0\n",
       "3           4.6          3.1           1.5          0.2        0\n",
       "4           5.0          3.6           1.4          0.2        0"
      ]
     },
     "execution_count": 51,
     "metadata": {},
     "output_type": "execute_result"
    }
   ],
   "source": [
    "df.head()"
   ]
  },
  {
   "cell_type": "code",
   "execution_count": 70,
   "id": "2554481b-05ca-40bc-aaab-de2a01b2ac18",
   "metadata": {},
   "outputs": [],
   "source": [
    "#Visualization"
   ]
  },
  {
   "cell_type": "code",
   "execution_count": 73,
   "id": "a101ddf8-0459-4fa2-9bb5-a9e20727aa01",
   "metadata": {},
   "outputs": [],
   "source": [
    "import matplotlib.pyplot as plt\n",
    "%matplotlib inline"
   ]
  },
  {
   "cell_type": "code",
   "execution_count": 76,
   "id": "ed9e60f7-b637-4fae-95f5-b4d1b8547771",
   "metadata": {},
   "outputs": [],
   "source": [
    "df0=df[df.species==0]"
   ]
  },
  {
   "cell_type": "code",
   "execution_count": 77,
   "id": "54d24ead-70fb-4b8f-b0eb-c87f881d27bd",
   "metadata": {},
   "outputs": [],
   "source": [
    "df1=df[df.species==1]"
   ]
  },
  {
   "cell_type": "code",
   "execution_count": 78,
   "id": "3ca6b6a5-71e6-418d-8904-3776dc80fce9",
   "metadata": {},
   "outputs": [],
   "source": [
    "df2=df[df.species==2]"
   ]
  },
  {
   "cell_type": "code",
   "execution_count": 80,
   "id": "0379461c-b0c5-44e4-9ab5-ba1a2af38d61",
   "metadata": {},
   "outputs": [
    {
     "data": {
      "text/plain": [
       "<matplotlib.collections.PathCollection at 0x1bfadd5f4d0>"
      ]
     },
     "execution_count": 80,
     "metadata": {},
     "output_type": "execute_result"
    },
    {
     "data": {
      "image/png": "[encoded data removed]",
      "text/plain": [
       "<Figure size 640x480 with 1 Axes>"
      ]
     },
     "metadata": {},
     "output_type": "display_data"
    }
   ],
   "source": [
    "plt.scatter(df0['sepal_length'],df0['sepal_width'],color='green',marker='+')\n",
    "plt.scatter(df1['sepal_length'],df1['sepal_width'],color='red',marker='+')\n",
    "plt.scatter(df2['sepal_length'],df2['sepal_width'],color='yellow',marker='+')"
   ]
  },
  {
   "cell_type": "code",
   "execution_count": null,
   "id": "cc5a934b-8ed8-48f9-a8e7-c9169b32a0af",
   "metadata": {},
   "outputs": [],
   "source": []
  },
  {
   "cell_type": "code",
   "execution_count": 52,
   "id": "b48858e6-bd9a-429c-95f4-caea46f2584f",
   "metadata": {},
   "outputs": [],
   "source": [
    "X=df[['sepal_length','sepal_width','petal_length','petal_width']]\n",
    "y=df['species']"
   ]
  },
  {
   "cell_type": "code",
   "execution_count": 53,
   "id": "0274132b-ddbd-4dbf-b552-7509d943c18f",
   "metadata": {},
   "outputs": [],
   "source": [
    "from sklearn.model_selection import train_test_split"
   ]
  },
  {
   "cell_type": "code",
   "execution_count": 54,
   "id": "7dac785f-696f-4ac4-b5a6-06f5f572196b",
   "metadata": {},
   "outputs": [],
   "source": [
    "X_train,X_test,y_train,y_test=train_test_split(X,y,test_size=0.50)"
   ]
  },
  {
   "cell_type": "code",
   "execution_count": 55,
   "id": "6e978858-d12a-4819-9224-f94ec852fc32",
   "metadata": {},
   "outputs": [
    {
     "data": {
      "text/html": [
       "<div>\n",
       "<style scoped>\n",
       "    .dataframe tbody tr th:only-of-type {\n",
       "        vertical-align: middle;\n",
       "    }\n",
       "\n",
       "    .dataframe tbody tr th {\n",
       "        vertical-align: top;\n",
       "    }\n",
       "\n",
       "    .dataframe thead th {\n",
       "        text-align: right;\n",
       "    }\n",
       "</style>\n",
       "<table border=\"1\" class=\"dataframe\">\n",
       "  <thead>\n",
       "    <tr style=\"text-align: right;\">\n",
       "      <th></th>\n",
       "      <th>sepal_length</th>\n",
       "      <th>sepal_width</th>\n",
       "      <th>petal_length</th>\n",
       "      <th>petal_width</th>\n",
       "    </tr>\n",
       "  </thead>\n",
       "  <tbody>\n",
       "    <tr>\n",
       "      <th>96</th>\n",
       "      <td>5.7</td>\n",
       "      <td>2.9</td>\n",
       "      <td>4.2</td>\n",
       "      <td>1.3</td>\n",
       "    </tr>\n",
       "    <tr>\n",
       "      <th>43</th>\n",
       "      <td>5.0</td>\n",
       "      <td>3.5</td>\n",
       "      <td>1.6</td>\n",
       "      <td>0.6</td>\n",
       "    </tr>\n",
       "    <tr>\n",
       "      <th>79</th>\n",
       "      <td>5.7</td>\n",
       "      <td>2.6</td>\n",
       "      <td>3.5</td>\n",
       "      <td>1.0</td>\n",
       "    </tr>\n",
       "    <tr>\n",
       "      <th>57</th>\n",
       "      <td>4.9</td>\n",
       "      <td>2.4</td>\n",
       "      <td>3.3</td>\n",
       "      <td>1.0</td>\n",
       "    </tr>\n",
       "    <tr>\n",
       "      <th>69</th>\n",
       "      <td>5.6</td>\n",
       "      <td>2.5</td>\n",
       "      <td>3.9</td>\n",
       "      <td>1.1</td>\n",
       "    </tr>\n",
       "  </tbody>\n",
       "</table>\n",
       "</div>"
      ],
      "text/plain": [
       "    sepal_length  sepal_width  petal_length  petal_width\n",
       "96           5.7          2.9           4.2          1.3\n",
       "43           5.0          3.5           1.6          0.6\n",
       "79           5.7          2.6           3.5          1.0\n",
       "57           4.9          2.4           3.3          1.0\n",
       "69           5.6          2.5           3.9          1.1"
      ]
     },
     "execution_count": 55,
     "metadata": {},
     "output_type": "execute_result"
    }
   ],
   "source": [
    "X_test.head()"
   ]
  },
  {
   "cell_type": "code",
   "execution_count": 56,
   "id": "b1f4ed3e-4f67-46f1-a7cf-269dfdff2c99",
   "metadata": {},
   "outputs": [
    {
     "data": {
      "text/html": [
       "<div>\n",
       "<style scoped>\n",
       "    .dataframe tbody tr th:only-of-type {\n",
       "        vertical-align: middle;\n",
       "    }\n",
       "\n",
       "    .dataframe tbody tr th {\n",
       "        vertical-align: top;\n",
       "    }\n",
       "\n",
       "    .dataframe thead th {\n",
       "        text-align: right;\n",
       "    }\n",
       "</style>\n",
       "<table border=\"1\" class=\"dataframe\">\n",
       "  <thead>\n",
       "    <tr style=\"text-align: right;\">\n",
       "      <th></th>\n",
       "      <th>sepal_length</th>\n",
       "      <th>sepal_width</th>\n",
       "      <th>petal_length</th>\n",
       "      <th>petal_width</th>\n",
       "    </tr>\n",
       "  </thead>\n",
       "  <tbody>\n",
       "    <tr>\n",
       "      <th>54</th>\n",
       "      <td>6.5</td>\n",
       "      <td>2.8</td>\n",
       "      <td>4.6</td>\n",
       "      <td>1.5</td>\n",
       "    </tr>\n",
       "    <tr>\n",
       "      <th>46</th>\n",
       "      <td>5.1</td>\n",
       "      <td>3.8</td>\n",
       "      <td>1.6</td>\n",
       "      <td>0.2</td>\n",
       "    </tr>\n",
       "    <tr>\n",
       "      <th>102</th>\n",
       "      <td>7.1</td>\n",
       "      <td>3.0</td>\n",
       "      <td>5.9</td>\n",
       "      <td>2.1</td>\n",
       "    </tr>\n",
       "    <tr>\n",
       "      <th>37</th>\n",
       "      <td>4.9</td>\n",
       "      <td>3.1</td>\n",
       "      <td>1.5</td>\n",
       "      <td>0.1</td>\n",
       "    </tr>\n",
       "    <tr>\n",
       "      <th>133</th>\n",
       "      <td>6.3</td>\n",
       "      <td>2.8</td>\n",
       "      <td>5.1</td>\n",
       "      <td>1.5</td>\n",
       "    </tr>\n",
       "  </tbody>\n",
       "</table>\n",
       "</div>"
      ],
      "text/plain": [
       "     sepal_length  sepal_width  petal_length  petal_width\n",
       "54            6.5          2.8           4.6          1.5\n",
       "46            5.1          3.8           1.6          0.2\n",
       "102           7.1          3.0           5.9          2.1\n",
       "37            4.9          3.1           1.5          0.1\n",
       "133           6.3          2.8           5.1          1.5"
      ]
     },
     "execution_count": 56,
     "metadata": {},
     "output_type": "execute_result"
    }
   ],
   "source": [
    "X_train.head()"
   ]
  },
  {
   "cell_type": "code",
   "execution_count": 60,
   "id": "0cf586b8-e826-4d74-b9cc-4b987ea47a10",
   "metadata": {},
   "outputs": [],
   "source": [
    "from sklearn.linear_model import LogisticRegression"
   ]
  },
  {
   "cell_type": "code",
   "execution_count": 61,
   "id": "d7fbcfbc-6f17-40c2-9675-2344a4cfac71",
   "metadata": {},
   "outputs": [],
   "source": [
    "model=LogisticRegression()"
   ]
  },
  {
   "cell_type": "code",
   "execution_count": 62,
   "id": "63cb4821-0506-448a-b0ab-a2e05df70031",
   "metadata": {},
   "outputs": [
    {
     "data": {
      "text/html": [
       "<style>#sk-container-id-2 {color: black;}#sk-container-id-2 pre{padding: 0;}#sk-container-id-2 div.sk-toggleable {background-color: white;}#sk-container-id-2 label.sk-toggleable__label {cursor: pointer;display: block;width: 100%;margin-bottom: 0;padding: 0.3em;box-sizing: border-box;text-align: center;}#sk-container-id-2 label.sk-toggleable__label-arrow:before {content: \"▸\";float: left;margin-right: 0.25em;color: #696969;}#sk-container-id-2 label.sk-toggleable__label-arrow:hover:before {color: black;}#sk-container-id-2 div.sk-estimator:hover label.sk-toggleable__label-arrow:before {color: black;}#sk-container-id-2 div.sk-toggleable__content {max-height: 0;max-width: 0;overflow: hidden;text-align: left;background-color: #f0f8ff;}#sk-container-id-2 div.sk-toggleable__content pre {margin: 0.2em;color: black;border-radius: 0.25em;background-color: #f0f8ff;}#sk-container-id-2 input.sk-toggleable__control:checked~div.sk-toggleable__content {max-height: 200px;max-width: 100%;overflow: auto;}#sk-container-id-2 input.sk-toggleable__control:checked~label.sk-toggleable__label-arrow:before {content: \"▾\";}#sk-container-id-2 div.sk-estimator input.sk-toggleable__control:checked~label.sk-toggleable__label {background-color: #d4ebff;}#sk-container-id-2 div.sk-label input.sk-toggleable__control:checked~label.sk-toggleable__label {background-color: #d4ebff;}#sk-container-id-2 input.sk-hidden--visually {border: 0;clip: rect(1px 1px 1px 1px);clip: rect(1px, 1px, 1px, 1px);height: 1px;margin: -1px;overflow: hidden;padding: 0;position: absolute;width: 1px;}#sk-container-id-2 div.sk-estimator {font-family: monospace;background-color: #f0f8ff;border: 1px dotted black;border-radius: 0.25em;box-sizing: border-box;margin-bottom: 0.5em;}#sk-container-id-2 div.sk-estimator:hover {background-color: #d4ebff;}#sk-container-id-2 div.sk-parallel-item::after {content: \"\";width: 100%;border-bottom: 1px solid gray;flex-grow: 1;}#sk-container-id-2 div.sk-label:hover label.sk-toggleable__label {background-color: #d4ebff;}#sk-container-id-2 div.sk-serial::before {content: \"\";position: absolute;border-left: 1px solid gray;box-sizing: border-box;top: 0;bottom: 0;left: 50%;z-index: 0;}#sk-container-id-2 div.sk-serial {display: flex;flex-direction: column;align-items: center;background-color: white;padding-right: 0.2em;padding-left: 0.2em;position: relative;}#sk-container-id-2 div.sk-item {position: relative;z-index: 1;}#sk-container-id-2 div.sk-parallel {display: flex;align-items: stretch;justify-content: center;background-color: white;position: relative;}#sk-container-id-2 div.sk-item::before, #sk-container-id-2 div.sk-parallel-item::before {content: \"\";position: absolute;border-left: 1px solid gray;box-sizing: border-box;top: 0;bottom: 0;left: 50%;z-index: -1;}#sk-container-id-2 div.sk-parallel-item {display: flex;flex-direction: column;z-index: 1;position: relative;background-color: white;}#sk-container-id-2 div.sk-parallel-item:first-child::after {align-self: flex-end;width: 50%;}#sk-container-id-2 div.sk-parallel-item:last-child::after {align-self: flex-start;width: 50%;}#sk-container-id-2 div.sk-parallel-item:only-child::after {width: 0;}#sk-container-id-2 div.sk-dashed-wrapped {border: 1px dashed gray;margin: 0 0.4em 0.5em 0.4em;box-sizing: border-box;padding-bottom: 0.4em;background-color: white;}#sk-container-id-2 div.sk-label label {font-family: monospace;font-weight: bold;display: inline-block;line-height: 1.2em;}#sk-container-id-2 div.sk-label-container {text-align: center;}#sk-container-id-2 div.sk-container {/* jupyter's `normalize.less` sets `[hidden] { display: none; }` but bootstrap.min.css set `[hidden] { display: none !important; }` so we also need the `!important` here to be able to override the default hidden behavior on the sphinx rendered scikit-learn.org. See: https://github.com/scikit-learn/scikit-learn/issues/21755 */display: inline-block !important;position: relative;}#sk-container-id-2 div.sk-text-repr-fallback {display: none;}</style><div id=\"sk-container-id-2\" class=\"sk-top-container\"><div class=\"sk-text-repr-fallback\"><pre>LogisticRegression()</pre><b>In a Jupyter environment, please rerun this cell to show the HTML representation or trust the notebook. <br />On GitHub, the HTML representation is unable to render, please try loading this page with nbviewer.org.</b></div><div class=\"sk-container\" hidden><div class=\"sk-item\"><div class=\"sk-estimator sk-toggleable\"><input class=\"sk-toggleable__control sk-hidden--visually\" id=\"sk-estimator-id-2\" type=\"checkbox\" checked><label for=\"sk-estimator-id-2\" class=\"sk-toggleable__label sk-toggleable__label-arrow\">LogisticRegression</label><div class=\"sk-toggleable__content\"><pre>LogisticRegression()</pre></div></div></div></div></div>"
      ],
      "text/plain": [
       "LogisticRegression()"
      ]
     },
     "execution_count": 62,
     "metadata": {},
     "output_type": "execute_result"
    }
   ],
   "source": [
    "model.fit(X_train,y_train)"
   ]
  },
  {
   "cell_type": "code",
   "execution_count": 63,
   "id": "0cb1a943-da63-49f9-8ab7-ece560f407d6",
   "metadata": {},
   "outputs": [
    {
     "data": {
      "text/plain": [
       "array([2, 0, 2, 2, 2, 1, 1, 0, 1, 2, 1, 0, 2, 1, 0, 0, 1, 1, 0, 2, 2, 2,\n",
       "       1, 1, 2, 2, 0, 0, 0, 0, 2, 2, 2, 1, 2, 2, 0, 0, 2, 2, 2, 1, 1, 2,\n",
       "       2, 2, 2, 1, 0, 0, 1, 1, 1, 0, 2, 2, 2, 1, 2, 1, 0, 1, 2, 1, 0, 0,\n",
       "       1, 2, 1, 0, 0, 0, 0, 1, 1], dtype=int64)"
      ]
     },
     "execution_count": 63,
     "metadata": {},
     "output_type": "execute_result"
    }
   ],
   "source": [
    "model.predict(X_test)"
   ]
  },
  {
   "cell_type": "code",
   "execution_count": 64,
   "id": "167ea76e-c3b9-4c2d-b057-4828412e19d1",
   "metadata": {},
   "outputs": [
    {
     "data": {
      "text/plain": [
       "0.9466666666666667"
      ]
     },
     "execution_count": 64,
     "metadata": {},
     "output_type": "execute_result"
    }
   ],
   "source": [
    "model.score(X_test,y_test)"
   ]
  },
  {
   "cell_type": "code",
   "execution_count": 65,
   "id": "88a9f702-8594-413a-862d-b90b099edf54",
   "metadata": {
    "scrolled": true
   },
   "outputs": [
    {
     "data": {
      "text/plain": [
       "array([[4.80869815e-02, 1.56545112e-01, 7.95367907e-01],\n",
       "       [9.65762071e-01, 3.51889644e-06, 3.42344103e-02],\n",
       "       [1.65782067e-01, 1.93363781e-02, 8.14881555e-01],\n",
       "       [3.50167655e-01, 1.41705785e-02, 6.35661767e-01],\n",
       "       [8.08607239e-02, 6.86166124e-02, 8.50522664e-01],\n",
       "       [6.10915525e-03, 6.52267507e-01, 3.41623337e-01],\n",
       "       [4.33459557e-06, 9.75940018e-01, 2.40556478e-02],\n",
       "       [9.72202899e-01, 9.81862012e-07, 2.77961188e-02],\n",
       "       [2.51387797e-04, 9.24630778e-01, 7.51178343e-02],\n",
       "       [6.28716051e-03, 3.75533104e-01, 6.18179735e-01],\n",
       "       [2.73413959e-05, 9.48013841e-01, 5.19588172e-02],\n",
       "       [9.74783028e-01, 7.35271498e-07, 2.52162369e-02],\n",
       "       [1.46029870e-02, 1.93816936e-01, 7.91580077e-01],\n",
       "       [1.64510931e-05, 9.81260219e-01, 1.87233300e-02],\n",
       "       [9.67399131e-01, 9.99601601e-07, 3.25998697e-02],\n",
       "       [9.55762884e-01, 2.37356252e-06, 4.42347425e-02],\n",
       "       [7.07169250e-05, 9.53993626e-01, 4.59356566e-02],\n",
       "       [3.81795416e-05, 9.52291073e-01, 4.76707470e-02],\n",
       "       [9.40309414e-01, 2.82570293e-06, 5.96877603e-02],\n",
       "       [1.00160885e-01, 5.90338997e-02, 8.40805215e-01],\n",
       "       [9.04174459e-03, 4.38399453e-01, 5.52558803e-01],\n",
       "       [7.82527955e-03, 4.21383076e-01, 5.70791644e-01],\n",
       "       [4.31424550e-05, 9.73201485e-01, 2.67553723e-02],\n",
       "       [5.59295444e-06, 9.89182391e-01, 1.08120156e-02],\n",
       "       [3.02599063e-03, 4.69544172e-01, 5.27429837e-01],\n",
       "       [4.61915816e-01, 6.65149098e-03, 5.31432693e-01],\n",
       "       [9.64337581e-01, 2.44902723e-06, 3.56599701e-02],\n",
       "       [9.90943262e-01, 1.59937134e-07, 9.05657831e-03],\n",
       "       [9.71005686e-01, 1.00634255e-06, 2.89933075e-02],\n",
       "       [9.81073875e-01, 8.42797782e-07, 1.89252821e-02],\n",
       "       [1.47793143e-02, 2.07857333e-01, 7.77363353e-01],\n",
       "       [3.16433310e-01, 1.51450686e-02, 6.68421621e-01],\n",
       "       [8.94654015e-03, 2.58695365e-01, 7.32358095e-01],\n",
       "       [3.42038078e-03, 6.76348930e-01, 3.20230689e-01],\n",
       "       [5.81318291e-02, 9.50928223e-02, 8.46775349e-01],\n",
       "       [2.19642508e-02, 2.84246921e-01, 6.93788829e-01],\n",
       "       [9.77330054e-01, 4.04810099e-07, 2.26695416e-02],\n",
       "       [9.75694244e-01, 1.13883997e-06, 2.43046176e-02],\n",
       "       [5.91797447e-02, 1.45977360e-01, 7.94842895e-01],\n",
       "       [9.32309583e-03, 3.96047660e-01, 5.94629244e-01],\n",
       "       [1.14082398e-01, 1.26219212e-01, 7.59698390e-01],\n",
       "       [7.66300895e-05, 8.90721715e-01, 1.09201655e-01],\n",
       "       [1.69598866e-03, 8.05849940e-01, 1.92454071e-01],\n",
       "       [2.72003924e-02, 3.82588936e-01, 5.90210672e-01],\n",
       "       [2.55052325e-02, 1.66717732e-01, 8.07777036e-01],\n",
       "       [5.34257870e-02, 1.22588042e-01, 8.23986171e-01],\n",
       "       [3.96391788e-02, 2.06645008e-01, 7.53715813e-01],\n",
       "       [2.73112071e-03, 5.99951332e-01, 3.97317547e-01],\n",
       "       [9.54442452e-01, 2.61999344e-06, 4.55549276e-02],\n",
       "       [9.75091083e-01, 7.92235649e-07, 2.49081247e-02],\n",
       "       [4.48454119e-07, 9.93154731e-01, 6.84482088e-03],\n",
       "       [2.49514926e-04, 8.93047616e-01, 1.06702869e-01],\n",
       "       [1.70690578e-03, 7.48455066e-01, 2.49838028e-01],\n",
       "       [9.65444636e-01, 8.88436804e-07, 3.45544752e-02],\n",
       "       [4.98758294e-02, 9.72871698e-02, 8.52837001e-01],\n",
       "       [1.21303372e-02, 2.51564064e-01, 7.36305599e-01],\n",
       "       [3.79937619e-03, 4.04926165e-01, 5.91274459e-01],\n",
       "       [2.81872919e-05, 9.80974314e-01, 1.89974983e-02],\n",
       "       [2.03972413e-01, 3.18799062e-02, 7.64147681e-01],\n",
       "       [9.76311780e-04, 8.26650024e-01, 1.72373664e-01],\n",
       "       [9.76755750e-01, 3.53995426e-07, 2.32438962e-02],\n",
       "       [4.06474005e-04, 9.49330835e-01, 5.02626905e-02],\n",
       "       [1.32906116e-02, 3.30570147e-01, 6.56139241e-01],\n",
       "       [1.74324936e-03, 6.64831611e-01, 3.33425139e-01],\n",
       "       [9.82929071e-01, 4.65169635e-07, 1.70704637e-02],\n",
       "       [9.85287610e-01, 4.95582605e-07, 1.47118944e-02],\n",
       "       [1.09059918e-04, 9.36924445e-01, 6.29664955e-02],\n",
       "       [7.55695339e-02, 7.23788790e-02, 8.52051587e-01],\n",
       "       [7.53756725e-05, 9.72833200e-01, 2.70914246e-02],\n",
       "       [9.48396962e-01, 4.77084427e-06, 5.15982667e-02],\n",
       "       [9.75314197e-01, 6.25256474e-07, 2.46851782e-02],\n",
       "       [9.72987812e-01, 1.21961560e-06, 2.70109688e-02],\n",
       "       [9.78623300e-01, 4.95870790e-07, 2.13762039e-02],\n",
       "       [5.36976976e-04, 8.69314109e-01, 1.30148914e-01],\n",
       "       [3.21145259e-04, 8.57020005e-01, 1.42658850e-01]])"
      ]
     },
     "execution_count": 65,
     "metadata": {},
     "output_type": "execute_result"
    }
   ],
   "source": [
    "model.predict_proba(X_test)"
   ]
  },
  {
   "cell_type": "code",
   "execution_count": 66,
   "id": "6c624755-eb09-4881-8dcc-6b9367e76ff9",
   "metadata": {},
   "outputs": [
    {
     "name": "stderr",
     "output_type": "stream",
     "text": [
      "C:\\Users\\USER-PC\\AppData\\Local\\Programs\\Python\\Python312\\Lib\\site-packages\\sklearn\\base.py:465: UserWarning: X does not have valid feature names, but LogisticRegression was fitted with feature names\n",
      "  warnings.warn(\n"
     ]
    },
    {
     "data": {
      "text/plain": [
       "array([0], dtype=int64)"
      ]
     },
     "execution_count": 66,
     "metadata": {},
     "output_type": "execute_result"
    }
   ],
   "source": []
  },
  {
   "cell_type": "code",
   "execution_count": null,
   "id": "b3f50e06-ff42-4e72-94bb-3189c45deeb9",
   "metadata": {},
   "outputs": [],
   "source": []
  },
  {
   "cell_type": "code",
   "execution_count": null,
   "id": "54289632-7965-4045-9bd6-169c6ad668b0",
   "metadata": {},
   "outputs": [],
   "source": []
  }
 ],
 "metadata": {
  "kernelspec": {
   "display_name": "Python 3 (ipykernel)",
   "language": "python",
   "name": "python3"
  },
  "language_info": {
   "codemirror_mode": {
    "name": "ipython",
    "version": 3
   },
   "file_extension": ".py",
   "mimetype": "text/x-python",
   "name": "python",
   "nbconvert_exporter": "python",
   "pygments_lexer": "ipython3",
   "version": "3.12.1"
  }
 },
 "nbformat": 4,
 "nbformat_minor": 5
}
